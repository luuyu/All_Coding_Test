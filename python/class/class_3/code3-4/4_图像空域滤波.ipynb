{
 "cells": [
  {
   "cell_type": "code",
   "execution_count": null,
   "metadata": {},
   "outputs": [],
   "source": [
    "import cv2\n",
    "import matplotlib.pyplot as plt\n",
    "import numpy as np\n",
    "import math"
   ]
  },
  {
   "cell_type": "code",
   "execution_count": null,
   "metadata": {},
   "outputs": [],
   "source": [
    "def myfilter(img,kernel):\n",
    "    h=img.shape[0]\n",
    "    w=img.shape[1]\n",
    "    img1=np.zeros((h,w),np.uint8)\n",
    "    for i in range (1,h-1):\n",
    "        for j in range (1,w-1):\n",
    "            sum=0\n",
    "            for k in range(-1,2):\n",
    "                for l in range(-1,2):\n",
    "                    sum+=img[i+k,j+l]*kernel[k+1,l+1]   \n",
    "            img1[i,j]=sum\n",
    "    return img1"
   ]
  },
  {
   "cell_type": "code",
   "execution_count": null,
   "metadata": {},
   "outputs": [],
   "source": [
    "def show(img):\n",
    "    cv2.imshow('img',img)\n",
    "    cv2.waitKey(0)\n",
    "    cv2.destroyAllWindows()"
   ]
  },
  {
   "cell_type": "code",
   "execution_count": null,
   "metadata": {},
   "outputs": [],
   "source": [
    "#img = cv2.imread('LenaNoise.png',cv2.IMREAD_GRAYSCALE)\n",
    "#img = cv2.imread('image\\LenaNoise.png')\n",
    "img = cv2.imread('image\\girl.png')\n",
    "#img = cv2.imread('image\\yu1.png')\n",
    "img = cv2.cvtColor(img,cv2.COLOR_BGR2GRAY)\n",
    "# kernel = np.array([[0,  0.2,  0],\n",
    "#                     [0.2, 0,   0.2],\n",
    "#                     [0,  0.2,  0]])\n",
    "kernel = np.array([[-1, -1, -1],\n",
    "                   [-1,  9, -1],\n",
    "                   [-1, -1, -1]])\n",
    "kernel = np.array([[1, 0, 0],\n",
    "                   [0, 0, 0],\n",
    "                   [0, 0, -1]])\n",
    "# kernel = np.array([[0.09474166, 0.11831801, 0.09474166],\n",
    "#                    [0.11831801, 0.14776132, 0.11831801],\n",
    "#                    [0.09474166, 0.11831801, 0.09474166]])\n",
    "\n",
    "filtered_img = myfilter(img,kernel)\n",
    "#filtered_img = cv2.filter2D(img.astype('float32'),-1,kernel)\n",
    "#filtered_img =(np.uint8)(filtered_img)\n",
    "#filtered_img = filtered_img+128\n",
    "print(filtered_img)\n",
    "show(filtered_img)"
   ]
  },
  {
   "cell_type": "code",
   "execution_count": null,
   "metadata": {},
   "outputs": [],
   "source": []
  }
 ],
 "metadata": {
  "kernelspec": {
   "display_name": "Python 3.10.4 ('pytorch_env')",
   "language": "python",
   "name": "python3"
  },
  "language_info": {
   "codemirror_mode": {
    "name": "ipython",
    "version": 3
   },
   "file_extension": ".py",
   "mimetype": "text/x-python",
   "name": "python",
   "nbconvert_exporter": "python",
   "pygments_lexer": "ipython3",
   "version": "3.10.4"
  },
  "varInspector": {
   "cols": {
    "lenName": 16,
    "lenType": 16,
    "lenVar": 40
   },
   "kernels_config": {
    "python": {
     "delete_cmd_postfix": "",
     "delete_cmd_prefix": "del ",
     "library": "var_list.py",
     "varRefreshCmd": "print(var_dic_list())"
    },
    "r": {
     "delete_cmd_postfix": ") ",
     "delete_cmd_prefix": "rm(",
     "library": "var_list.r",
     "varRefreshCmd": "cat(var_dic_list()) "
    }
   },
   "types_to_exclude": [
    "module",
    "function",
    "builtin_function_or_method",
    "instance",
    "_Feature"
   ],
   "window_display": false
  },
  "vscode": {
   "interpreter": {
    "hash": "46d362570636f36d66b54da4852e902e5b2e273d5447d7896505cd544af91b6f"
   }
  }
 },
 "nbformat": 4,
 "nbformat_minor": 2
}
