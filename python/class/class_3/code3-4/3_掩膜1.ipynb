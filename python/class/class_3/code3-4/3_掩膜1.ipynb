{
 "cells": [
  {
   "cell_type": "code",
   "execution_count": 1,
   "id": "a5db43a1",
   "metadata": {},
   "outputs": [],
   "source": [
    "import cv2\n",
    "import numpy as np"
   ]
  },
  {
   "cell_type": "code",
   "execution_count": 2,
   "id": "d02ce4d2",
   "metadata": {},
   "outputs": [],
   "source": [
    "def roi_mask(img, vertices):\n",
    "    mask = np.zeros_like(img) #初始化一个与img大小相同的全0矩阵\n",
    "\n",
    "  #defining a 3 channel or 1 channel color to fill the mask with depending on the input image\n",
    "    if len(img.shape) > 2:\n",
    "        channel_count = img.shape[2]  # i.e. 3 or 4 depending on your image\n",
    "        mask_color = (255,) * channel_count\n",
    "    else:\n",
    "        mask_color = 256\n",
    "\n",
    "    cv2.fillPoly(mask, vertices, mask_color)\n",
    "    masked_img = cv2.bitwise_and(img, mask)\n",
    "#     plt.figure()\n",
    "#     plt.imshow(mask)\n",
    "    return masked_img"
   ]
  },
  {
   "cell_type": "code",
   "execution_count": 3,
   "id": "446842f3",
   "metadata": {},
   "outputs": [],
   "source": [
    "def showimg(name,img):\n",
    "    cv2.imshow(name,img)\n",
    "    cv2.waitKey(0)\n",
    "    cv2.destroyAllWindows()\n",
    "    cv2.waitKey(1)"
   ]
  },
  {
   "cell_type": "code",
   "execution_count": 5,
   "id": "a15aa7a3",
   "metadata": {},
   "outputs": [
    {
     "name": "stdout",
     "output_type": "stream",
     "text": [
      "540 960\n"
     ]
    }
   ],
   "source": [
    "img = cv2.imread('image/lane.jpg')\n",
    "img = cv2.cvtColor(img, cv2.COLOR_BGR2GRAY)\n",
    "\n",
    "h = img.shape[0] #高度\n",
    "w = img.shape[1] #宽度\n",
    "print(h,w)\n",
    "roi_vtx = np.array([[(0, h), (460, 325), (520, 325), (w, h)]])\n",
    "img_mask = roi_mask(img, roi_vtx)\n",
    "showimg('orgimg',img)\n",
    "showimg('mymask',img_mask)\n"
   ]
  },
  {
   "cell_type": "code",
   "execution_count": null,
   "id": "44efc9c0",
   "metadata": {},
   "outputs": [],
   "source": []
  }
 ],
 "metadata": {
  "kernelspec": {
   "display_name": "Python 3.10.4 ('pytorch_env')",
   "language": "python",
   "name": "python3"
  },
  "language_info": {
   "codemirror_mode": {
    "name": "ipython",
    "version": 3
   },
   "file_extension": ".py",
   "mimetype": "text/x-python",
   "name": "python",
   "nbconvert_exporter": "python",
   "pygments_lexer": "ipython3",
   "version": "3.10.4"
  },
  "vscode": {
   "interpreter": {
    "hash": "46d362570636f36d66b54da4852e902e5b2e273d5447d7896505cd544af91b6f"
   }
  }
 },
 "nbformat": 4,
 "nbformat_minor": 5
}
