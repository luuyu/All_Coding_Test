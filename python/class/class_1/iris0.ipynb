{
 "cells": [
  {
   "cell_type": "code",
   "execution_count": null,
   "id": "879db041",
   "metadata": {},
   "outputs": [],
   "source": [
    "### 利用神经网络进行鸢尾花分类0\n",
    "import numpy as np\n",
    "import torch\n",
    "from collections import Counter\n",
    "from sklearn import datasets\n",
    "import torch.nn.functional as Fun\n",
    "\n",
    "# 1. 数据准备\n",
    "dataset = datasets.load_iris()\n",
    "dataut=dataset['data']\n",
    "priciple=dataset['target']\n",
    "input=torch.FloatTensor(dataset['data'])\n",
    "label=torch.LongTensor(dataset['target'])\n",
    "\n",
    "# 2. 定义BP神经网络\n",
    "class Net(torch.nn.Module):\n",
    "    def __init__(self, n_feature, n_hidden, n_output):\n",
    "        super(Net, self).__init__()\n",
    "        self.hidden = torch.nn.Linear(n_feature, n_hidden)   # 定义隐藏层网络\n",
    "        self.out = torch.nn.Linear(n_hidden, n_output)   # 定义输出层网络\n",
    "\n",
    "    def forward(self, x):\n",
    "        x = Fun.relu(self.hidden(x))      # 隐藏层的激活函数,采用relu,也可以采用sigmod,tanh\n",
    "        x = self.out(x)                   # 输出层不用激活函数\n",
    "        return x\n",
    "\n",
    "# 3. 定义优化器损失函数\n",
    "net = Net(n_feature=4, n_hidden=20, n_output=3)    #n_feature:输入的特征维度,n_hiddenb:神经元个数,n_output:输出的类别个数\n",
    "optimizer = torch.optim.SGD(net.parameters(), lr=0.02) # 优化器选用随机梯度下降方式\n",
    "loss_func = torch.nn.CrossEntropyLoss() # 对于多分类一般采用的交叉熵损失函数,\n",
    "\n",
    "# 4. 训练数据\n",
    "for t in range(500):\n",
    "    out = net(input)                 # 输入input,输出out\n",
    "    loss = loss_func(out, label)     # 输出与label对比\n",
    "    optimizer.zero_grad()   # 梯度清零\n",
    "    loss.backward()         # 前馈操作\n",
    "    optimizer.step()        # 使用梯度优化器\n",
    "\n",
    "# 5. 得出结果\n",
    "out = net(input) #out是一个计算矩阵，可以用Fun.softmax(out)转化为概率矩阵\n",
    "prediction = torch.max(out, 1)[1] # 返回index  0返回原值\n",
    "pred_y = prediction.data.numpy()\n",
    "target_y = label.data.numpy()\n",
    "\n",
    "# 6.衡量准确率\n",
    "accuracy = float((pred_y == target_y).astype(int).sum()) / float(target_y.size)\n",
    "print(\"莺尾花预测准确率\",accuracy)\n"
   ]
  },
  {
   "cell_type": "code",
   "execution_count": null,
   "id": "c1d463db",
   "metadata": {},
   "outputs": [],
   "source": []
  }
 ],
 "metadata": {
  "kernelspec": {
   "display_name": "Python 3 (ipykernel)",
   "language": "python",
   "name": "python3"
  },
  "language_info": {
   "codemirror_mode": {
    "name": "ipython",
    "version": 3
   },
   "file_extension": ".py",
   "mimetype": "text/x-python",
   "name": "python",
   "nbconvert_exporter": "python",
   "pygments_lexer": "ipython3",
   "version": "3.8.13"
  }
 },
 "nbformat": 4,
 "nbformat_minor": 5
}
